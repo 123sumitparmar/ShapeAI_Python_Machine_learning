{
  "nbformat": 4,
  "nbformat_minor": 0,
  "metadata": {
    "colab": {
      "provenance": []
    },
    "kernelspec": {
      "name": "python3",
      "display_name": "Python 3"
    },
    "language_info": {
      "name": "python"
    }
  },
  "cells": [
    {
      "cell_type": "code",
      "execution_count": 1,
      "metadata": {
        "id": "vniCJ05iGdOz"
      },
      "outputs": [],
      "source": [
        "import numpy as np\n",
        "import pandas as pd\n",
        "import sklearn"
      ]
    },
    {
      "cell_type": "code",
      "source": [
        "from sklearn.datasets import load_boston\n",
        "df = load_boston()"
      ],
      "metadata": {
        "id": "o5hJQX3IH7oT"
      },
      "execution_count": null,
      "outputs": []
    },
    {
      "cell_type": "code",
      "source": [
        "df.keys()"
      ],
      "metadata": {
        "id": "edgikok6IaI0"
      },
      "execution_count": null,
      "outputs": []
    },
    {
      "cell_type": "code",
      "source": [
        "print(df.DESCR)"
      ],
      "metadata": {
        "id": "Mxd9uW_yIhGu"
      },
      "execution_count": null,
      "outputs": []
    },
    {
      "cell_type": "code",
      "source": [
        "boston = pd.DataFrame(df.data, columns=df.feature_names)\n",
        "boston.head()"
      ],
      "metadata": {
        "id": "v6WFMRQhIoyz"
      },
      "execution_count": null,
      "outputs": []
    },
    {
      "cell_type": "code",
      "source": [
        "boston['SUM'] = df.target\n",
        "boston.head()"
      ],
      "metadata": {
        "id": "B85JeTriJxBR"
      },
      "execution_count": null,
      "outputs": []
    },
    {
      "cell_type": "code",
      "source": [
        "boston.isnull()"
      ],
      "metadata": {
        "id": "etslIkaxKvkF"
      },
      "execution_count": null,
      "outputs": []
    },
    {
      "cell_type": "code",
      "source": [
        "boston.isnull().sum()"
      ],
      "metadata": {
        "id": "nk5c0c7ILCIN"
      },
      "execution_count": null,
      "outputs": []
    },
    {
      "cell_type": "code",
      "source": [
        "from sklearn.model_selection import train_test_split\n",
        "X = boston.drop('SUM', axis=1)\n",
        "Y = boston['SUM']\n",
        "X_train, X_test, Y_train, Y_test = train_test_split(X,Y, test_size = 0.15, random_state=1)\n",
        "print(X_train.shape)\n",
        "print(X_test.shape)\n",
        "print(Y_train.shape)\n",
        "print(Y_test.shape)"
      ],
      "metadata": {
        "id": "_zSeKX2JNx2_"
      },
      "execution_count": null,
      "outputs": []
    },
    {
      "cell_type": "code",
      "source": [
        "from sklearn.linear_model import LinearRegression\n",
        "from sklearn.metrics import mean_squared_error\n"
      ],
      "metadata": {
        "id": "heUdDC2DPU6k"
      },
      "execution_count": 12,
      "outputs": []
    },
    {
      "cell_type": "code",
      "source": [
        "lin_model = LinearRegression()\n",
        "lin_model.fit(X_train, Y_train)"
      ],
      "metadata": {
        "colab": {
          "base_uri": "https://localhost:8080/"
        },
        "id": "7svtn9TCQNce",
        "outputId": "0fd7fc62-83ea-4cc0-afa3-4a8417c17b56"
      },
      "execution_count": 13,
      "outputs": [
        {
          "output_type": "execute_result",
          "data": {
            "text/plain": [
              "LinearRegression()"
            ]
          },
          "metadata": {},
          "execution_count": 13
        }
      ]
    },
    {
      "cell_type": "code",
      "source": [
        "y_train_predict = lin_model.predict(X_train)\n",
        "parmar = (np.sqrt(mean_squared_error(Y_train, y_train_predict)))\n",
        "print(\"this model is for training set\")\n",
        "print('PARMAR is {}'.format(parmar))\n",
        "print(\"\\n\")\n",
        "y_test_predict = lin_model.predict(X_test)\n",
        "parmar = (np.sqrt(mean_squared_error(Y_test, y_test_predict)))\n",
        "print(\"this model is for testing set\")\n",
        "print('PARMAR is {}'.format(parmar))"
      ],
      "metadata": {
        "id": "emi63iidQtam"
      },
      "execution_count": null,
      "outputs": []
    },
    {
      "cell_type": "code",
      "source": [],
      "metadata": {
        "id": "b1Oc_OV7ShoZ"
      },
      "execution_count": null,
      "outputs": []
    }
  ]
}